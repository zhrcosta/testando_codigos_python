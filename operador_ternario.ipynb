{
 "metadata": {
  "language_info": {
   "codemirror_mode": {
    "name": "ipython",
    "version": 3
   },
   "file_extension": ".py",
   "mimetype": "text/x-python",
   "name": "python",
   "nbconvert_exporter": "python",
   "pygments_lexer": "ipython3",
   "version": "3.8.5-final"
  },
  "orig_nbformat": 2,
  "kernelspec": {
   "name": "python3",
   "display_name": "Python 3.8.5 64-bit",
   "metadata": {
    "interpreter": {
     "hash": "916dbcbb3f70747c44a77c7bcd40155683ae19c65e1c03b4aa3499c5328201f1"
    }
   }
  }
 },
 "nbformat": 4,
 "nbformat_minor": 2,
 "cells": [
  {
   "cell_type": "code",
   "execution_count": 1,
   "metadata": {},
   "outputs": [
    {
     "output_type": "stream",
     "name": "stdout",
     "text": [
      "Ready to take off\n"
     ]
    }
   ],
   "source": [
    "engine = True\n",
    "msg = \"Ready to take off\" if engine else \"Engine off\"\n",
    "print(msg)"
   ]
  },
  {
   "cell_type": "code",
   "execution_count": 2,
   "metadata": {},
   "outputs": [
    {
     "output_type": "stream",
     "name": "stdout",
     "text": [
      "Engine off\n"
     ]
    }
   ],
   "source": [
    "engine = False\n",
    "msg = \"Ready to take off\" if engine else \"Engine off\"\n",
    "print(msg)"
   ]
  },
  {
   "cell_type": "code",
   "execution_count": 3,
   "metadata": {},
   "outputs": [
    {
     "output_type": "stream",
     "name": "stdout",
     "text": [
      "Numero par\n"
     ]
    }
   ],
   "source": [
    "num = 72\n",
    "msg = \"Numero par\" if num % 2 == 0 else \"Numero impar\"\n",
    "print(msg)"
   ]
  },
  {
   "cell_type": "code",
   "execution_count": 4,
   "metadata": {},
   "outputs": [
    {
     "output_type": "stream",
     "name": "stdout",
     "text": [
      "Numero impar\n"
     ]
    }
   ],
   "source": [
    "num = 23\n",
    "msg = \"Numero par\" if num % 2 == 0 else \"Numero impar\"\n",
    "print(msg)"
   ]
  },
  {
   "cell_type": "code",
   "execution_count": 12,
   "metadata": {},
   "outputs": [
    {
     "output_type": "stream",
     "name": "stdout",
     "text": [
      "< -- >\n"
     ]
    }
   ],
   "source": [
    "lista = [1,2,3,4,5,6,7,8]\n",
    "msg = \"< -- >\" if lista[0] < lista[-1] else \"> -- <\"\n",
    "print(msg)"
   ]
  },
  {
   "cell_type": "code",
   "execution_count": 14,
   "metadata": {},
   "outputs": [
    {
     "output_type": "stream",
     "name": "stdout",
     "text": [
      "< -- >\n"
     ]
    }
   ],
   "source": [
    "lista = [7,2,3,4,5,6,7,8]\n",
    "msg = \"< -- >\" if lista[0] < lista[-1] else \"> -- <\"\n",
    "print(msg)"
   ]
  },
  {
   "cell_type": "code",
   "execution_count": 15,
   "metadata": {},
   "outputs": [
    {
     "output_type": "stream",
     "name": "stdout",
     "text": [
      "> -- <\n"
     ]
    }
   ],
   "source": [
    "lista = [8,2,3,4,5,6,7,7]\n",
    "msg = \"< -- >\" if lista[0] < lista[-1] else \"> -- <\"\n",
    "print(msg)"
   ]
  },
  {
   "cell_type": "code",
   "execution_count": 31,
   "metadata": {},
   "outputs": [
    {
     "output_type": "stream",
     "name": "stdout",
     "text": [
      "< -- >\n"
     ]
    }
   ],
   "source": [
    "lista = [1,2,3,4,5,6,7,8]\n",
    "msg = \"< -- >\" if (lista[0] < lista[1]) and (lista[-2] < lista[-1]) else \"> -- <\"\n",
    "print(msg)"
   ]
  },
  {
   "cell_type": "code",
   "execution_count": 36,
   "metadata": {},
   "outputs": [
    {
     "output_type": "stream",
     "name": "stdout",
     "text": [
      "> -- <\n"
     ]
    }
   ],
   "source": [
    "lista = [2,3,3,4,5,6,8,8]\n",
    "msg = \"< -- >\" if (lista[0] < lista[1]) and (lista[-2] < lista[-1]) else \"> -- <\"\n",
    "print(msg)"
   ]
  },
  {
   "cell_type": "code",
   "execution_count": 37,
   "metadata": {},
   "outputs": [
    {
     "output_type": "execute_result",
     "data": {
      "text/plain": [
       "True"
      ]
     },
     "metadata": {},
     "execution_count": 37
    }
   ],
   "source": [
    "lista[0] < lista[1]"
   ]
  },
  {
   "cell_type": "code",
   "execution_count": 38,
   "metadata": {},
   "outputs": [
    {
     "output_type": "execute_result",
     "data": {
      "text/plain": [
       "False"
      ]
     },
     "metadata": {},
     "execution_count": 38
    }
   ],
   "source": [
    "lista[-2] < lista[-1]"
   ]
  },
  {
   "cell_type": "code",
   "execution_count": 47,
   "metadata": {},
   "outputs": [
    {
     "output_type": "execute_result",
     "data": {
      "text/plain": [
       "False"
      ]
     },
     "metadata": {},
     "execution_count": 47
    }
   ],
   "source": [
    "lista[0] < lista[1] and lista[-2] < lista[-1]"
   ]
  }
 ]
}