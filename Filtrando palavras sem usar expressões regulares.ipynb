{
 "cells": [
  {
   "cell_type": "code",
   "execution_count": 13,
   "metadata": {},
   "outputs": [
    {
     "name": "stdout",
     "output_type": "stream",
     "text": [
      "audaz, assim, após, ardil, atroz, além, assaz, ainda, apraz, afins, algoz, adiar, achar, atuar, anuir, ambos, abrir, algum, "
     ]
    }
   ],
   "source": [
    "words = [\"afeto\",\"audaz\",\"assim\",\"anexo\",\"após\",\"ardil\",\"atroz\",\"além\",\n",
    "        \"assaz\",\"amigo\",\"ainda\",\"afago\",        print(w ,end=\", \")\"apraz\",\"acaso\",\"afins\",\"ameno\",\n",
    "         \"anelo\",\"algoz\",\"adiar\",\"achar\",\"amplo\",\"atuar\",\"ativo\",\"anuir\",\n",
    "         \"ambos\",\"apoio\",\"abrir\",\"algum\",\"aceso\"]\n",
    "\n",
    "for w in words:\n",
    "    if not w[-1] == 'o':\n",
    "        print(w, end=\", \")"
   ]
  },
  {
   "cell_type": "markdown",
   "metadata": {},
   "source": [
    "Fazendo uma pequena modificação, tirando o operador lógico NOT, eu verifico cada palavra da lista se começa com \"am\", se isso for verdadeiro a palavra será impressa."
   ]
  },
  {
   "cell_type": "code",
   "execution_count": 15,
   "metadata": {},
   "outputs": [
    {
     "name": "stdout",
     "output_type": "stream",
     "text": [
      "amigo, ameno, amplo, ambos, "
     ]
    }
   ],
   "source": [
    "for w in words:\n",
    "    if w[0:2] == 'am':\n",
    "        print(w, end=\", \")"
   ]
  },
  {
   "cell_type": "markdown",
   "metadata": {},
   "source": [
    "Nesse outro exemplo eu filtro as palavras que começam com a letra \"a\" e terminam com a letra \"o\""
   ]
  },
  {
   "cell_type": "code",
   "execution_count": 18,
   "metadata": {},
   "outputs": [
    {
     "name": "stdout",
     "output_type": "stream",
     "text": [
      "afeto, anexo, amigo, afago, acaso, ameno, anelo, amplo, ativo, apoio, aceso, "
     ]
    }
   ],
   "source": [
    "for w in words:\n",
    "    if w[0] == \"a\" and w[-1] == \"o\":\n",
    "        print(w, end=\", \")"
   ]
  },
  {
   "cell_type": "markdown",
   "metadata": {},
   "source": [
    "Uma pequena modificação no codigo anterior, colocando o operador NOT, eu consigo excluir essas palavras que começam com as letras \"am\" e que terminam com a letra \"o\""
   ]
  },
  {
   "cell_type": "code",
   "execution_count": 22,
   "metadata": {},
   "outputs": [
    {
     "name": "stdout",
     "output_type": "stream",
     "text": [
      "audaz, assim, após, ardil, atroz, além, assaz, ainda, apraz, afins, algoz, adiar, achar, atuar, anuir, ambos, abrir, algum, "
     ]
    }
   ],
   "source": [
    "for w in words:\n",
    "    if not w[0] == \"am\" and not w[-1] == \"o\":\n",
    "        print(w ,end=\", \")"
   ]
  },
  {
   "cell_type": "markdown",
   "metadata": {},
   "source": [
    "Até agora usei regras para avaliar a primeira e a ultima letra de cada palavra. Com o operador logico IN é possível verificar outras condições em qualquer extensão de uma determinada palavra, e o caso mais clássico é imprimir todas as palavras com duas letras iguais como o \"ss\". E aqui a comparação é simples se \"ss\" estiver em(in) (w) então, imprima."
   ]
  },
  {
   "cell_type": "code",
   "execution_count": 25,
   "metadata": {},
   "outputs": [
    {
     "name": "stdout",
     "output_type": "stream",
     "text": [
      "assim, assaz, "
     ]
    }
   ],
   "source": [
    "for w in words:\n",
    "    if \"ss\" in w:\n",
    "        print(w, end=\", \")"
   ]
  },
  {
   "cell_type": "markdown",
   "metadata": {},
   "source": [
    "Assim, da para explorar mais uma possibilidade, filtrar todas as palavras que com \"ss\" ou(or) \"ch\"."
   ]
  },
  {
   "cell_type": "code",
   "execution_count": 30,
   "metadata": {},
   "outputs": [
    {
     "name": "stdout",
     "output_type": "stream",
     "text": [
      "assim, assaz, achar, "
     ]
    }
   ],
   "source": [
    "for w in words:\n",
    "    if \"ss\" in w or \"ch\" in w:\n",
    "        print(w, end=\", \")"
   ]
  },
  {
   "cell_type": "markdown",
   "metadata": {},
   "source": [
    "E antes de terminar, usando a função Built-in len() para saber quantos caracteres uma lista ou string possuem, é possível filtrar todas as palavras com 4 caracteres."
   ]
  },
  {
   "cell_type": "code",
   "execution_count": 35,
   "metadata": {},
   "outputs": [
    {
     "name": "stdout",
     "output_type": "stream",
     "text": [
      "após, além, "
     ]
    }
   ],
   "source": [
    "for w in words:\n",
    "    if len(w) == 4:\n",
    "        print(w, end=\", \")"
   ]
  },
  {
   "cell_type": "markdown",
   "metadata": {},
   "source": [
    "E para dificultar um pouco as coisas, com a finalidade de treinar a lógica, o código abaixo retorna o mesmo resultado que o código anterior, porem sem usar a função Built-in len()."
   ]
  },
  {
   "cell_type": "code",
   "execution_count": 38,
   "metadata": {},
   "outputs": [
    {
     "name": "stdout",
     "output_type": "stream",
     "text": [
      "após, além, "
     ]
    }
   ],
   "source": [
    "for w in words:\n",
    "    char_num = 0\n",
    "    for char in w:\n",
    "        char_num += 1\n",
    "    if char_num == 4:\n",
    "        print(w, end=\", \")"
   ]
  }
 ],
 "metadata": {
  "kernelspec": {
   "display_name": "Python 3",
   "language": "python",
   "name": "python3"
  },
  "language_info": {
   "codemirror_mode": {
    "name": "ipython",
    "version": 3
   },
   "file_extension": ".py",
   "mimetype": "text/x-python",
   "name": "python",
   "nbconvert_exporter": "python",
   "pygments_lexer": "ipython3",
   "version": "3.7.9"
  }
 },
 "nbformat": 4,
 "nbformat_minor": 4
}