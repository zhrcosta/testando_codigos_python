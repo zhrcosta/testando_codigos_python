{
 "metadata": {
  "language_info": {
   "codemirror_mode": {
    "name": "ipython",
    "version": 3
   },
   "file_extension": ".py",
   "mimetype": "text/x-python",
   "name": "python",
   "nbconvert_exporter": "python",
   "pygments_lexer": "ipython3",
   "version": "3.8.5-final"
  },
  "orig_nbformat": 2,
  "kernelspec": {
   "name": "python3",
   "display_name": "Python 3.8.5 64-bit",
   "metadata": {
    "interpreter": {
     "hash": "916dbcbb3f70747c44a77c7bcd40155683ae19c65e1c03b4aa3499c5328201f1"
    }
   }
  }
 },
 "nbformat": 4,
 "nbformat_minor": 2,
 "cells": [
  {
   "cell_type": "code",
   "execution_count": 1,
   "metadata": {},
   "outputs": [
    {
     "output_type": "execute_result",
     "data": {
      "text/plain": [
       "'a'"
      ]
     },
     "metadata": {},
     "execution_count": 1
    }
   ],
   "source": [
    "chr(97)"
   ]
  },
  {
   "cell_type": "code",
   "execution_count": 2,
   "metadata": {},
   "outputs": [
    {
     "output_type": "execute_result",
     "data": {
      "text/plain": [
       "'aa'"
      ]
     },
     "metadata": {},
     "execution_count": 2
    }
   ],
   "source": [
    "2 * chr(97)"
   ]
  },
  {
   "cell_type": "code",
   "execution_count": 36,
   "metadata": {},
   "outputs": [
    {
     "output_type": "stream",
     "name": "stdout",
     "text": [
      "['aa', 'bb', 'cc', 'dd', 'ee']\n"
     ]
    }
   ],
   "source": [
    "letter1 = [2*chr(char) for char in range(97,97+5)]\n",
    "print(letter)"
   ]
  },
  {
   "cell_type": "code",
   "execution_count": 49,
   "metadata": {},
   "outputs": [
    {
     "output_type": "stream",
     "name": "stdout",
     "text": [
      "['ff', 'gg', 'hh', 'ii', 'jj']\n"
     ]
    }
   ],
   "source": [
    "letter2 = [2*chr(char) for char in range(102,102+5)]\n",
    "print(letter2)"
   ]
  },
  {
   "cell_type": "code",
   "execution_count": 50,
   "metadata": {},
   "outputs": [
    {
     "output_type": "stream",
     "name": "stdout",
     "text": [
      "['a0', 'b1', 'c2', 'd3', 'e4', 'f5', 'g6', 'h7', 'i8', 'j9', 'f10', 'g11', 'h12', 'i13', 'j14']\n"
     ]
    }
   ],
   "source": [
    "all = letter1\n",
    "print(all)"
   ]
  },
  {
   "cell_type": "code",
   "execution_count": 51,
   "metadata": {},
   "outputs": [
    {
     "output_type": "stream",
     "name": "stdout",
     "text": [
      "['a0', 'b1', 'c2', 'd3', 'e4', 'f5', 'g6', 'h7', 'i8', 'j9', 'f10', 'g11', 'h12', 'i13', 'j14', 'ff', 'gg', 'hh', 'ii', 'jj']\n"
     ]
    }
   ],
   "source": [
    "all.extend(letter2)\n",
    "print(all)"
   ]
  },
  {
   "cell_type": "code",
   "execution_count": 52,
   "metadata": {},
   "outputs": [
    {
     "output_type": "stream",
     "name": "stdout",
     "text": [
      "0 1 2 3 4 5 6 7 8 9 1 1 1 1 1 f g h i j "
     ]
    }
   ],
   "source": [
    "for i in all:\n",
    "    print(i[1], end=' ')"
   ]
  },
  {
   "cell_type": "code",
   "execution_count": 47,
   "metadata": {},
   "outputs": [
    {
     "output_type": "stream",
     "name": "stdout",
     "text": [
      "a0 b1 c2 d3 e4 f5 g6 h7 i8 j9 f10 g11 h12 i13 j14 "
     ]
    }
   ],
   "source": [
    "for i in range(len(all)):\n",
    "    all[i] = f'{all[i][0]}{i}'\n",
    "    print(all[i], end=' ')"
   ]
  },
  {
   "cell_type": "code",
   "execution_count": 2,
   "metadata": {},
   "outputs": [
    {
     "output_type": "stream",
     "name": "stdout",
     "text": [
      "['aa', 'bb', 'cc', 'dd', 'ee']\n"
     ]
    }
   ],
   "source": [
    "letter3 = [2*chr(decimail) for decimail in range(97,97+5)]\n",
    "print(letter3)"
   ]
  },
  {
   "cell_type": "code",
   "execution_count": 4,
   "metadata": {},
   "outputs": [
    {
     "output_type": "stream",
     "name": "stdout",
     "text": [
      "['a0', 'b1', 'c2', 'd3', 'e4']\n"
     ]
    }
   ],
   "source": [
    "letter3 = [f'{letter3[index][0]}{index}' for index in range(len(letter3))]\n",
    "print(letter3)"
   ]
  },
  {
   "cell_type": "code",
   "execution_count": null,
   "metadata": {},
   "outputs": [],
   "source": []
  }
 ]
}