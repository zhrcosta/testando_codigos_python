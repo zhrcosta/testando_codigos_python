{
 "metadata": {
  "language_info": {
   "codemirror_mode": {
    "name": "ipython",
    "version": 3
   },
   "file_extension": ".py",
   "mimetype": "text/x-python",
   "name": "python",
   "nbconvert_exporter": "python",
   "pygments_lexer": "ipython3",
   "version": "3.8.3-final"
  },
  "orig_nbformat": 2,
  "kernelspec": {
   "name": "python3",
   "display_name": "Python 3.8.3 64-bit ('base': conda)",
   "metadata": {
    "interpreter": {
     "hash": "4ca0d6dc45ea529458e18ff81e5596fc2aba19628f699bec36801f90b12bf847"
    }
   }
  }
 },
 "nbformat": 4,
 "nbformat_minor": 2,
 "cells": [
  {
   "cell_type": "code",
   "execution_count": 5,
   "metadata": {},
   "outputs": [
    {
     "output_type": "stream",
     "name": "stdout",
     "text": [
      "0 1 2 3 4 5 6 7 8 9 "
     ]
    }
   ],
   "source": [
    "num = 0\n",
    "while not num == 10:\n",
    "    print(num, end=\" \")\n",
    "    num += 1"
   ]
  },
  {
   "cell_type": "code",
   "execution_count": 40,
   "metadata": {},
   "outputs": [
    {
     "output_type": "stream",
     "name": "stdout",
     "text": [
      "0\n\n\nX:0\n1\n\n\nX:5\n2\n\n\nX:10\n\n\nconcluido\nX:16\n"
     ]
    }
   ],
   "source": [
    "from random import randint\n",
    "x = 0\n",
    "loop = 0\n",
    "\n",
    "while not x > 10:\n",
    "\n",
    "    print(loop)\n",
    "    print(\"\\n\")\n",
    "    print(f'X:{x}')\n",
    "    start = randint(0,2)\n",
    "    stop = randint(0,10)\n",
    "    x += randint(start,stop+start)\n",
    "    \n",
    "    loop += 1\n",
    "\n",
    "print(\"\\n\")\n",
    "print(\"concluido\")\n",
    "print(f'X:{x}')"
   ]
  },
  {
   "cell_type": "code",
   "execution_count": null,
   "metadata": {},
   "outputs": [],
   "source": []
  },
  {
   "cell_type": "code",
   "execution_count": null,
   "metadata": {},
   "outputs": [],
   "source": []
  }
 ]
}