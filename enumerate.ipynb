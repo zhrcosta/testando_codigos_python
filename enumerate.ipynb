{
 "metadata": {
  "language_info": {
   "codemirror_mode": {
    "name": "ipython",
    "version": 3
   },
   "file_extension": ".py",
   "mimetype": "text/x-python",
   "name": "python",
   "nbconvert_exporter": "python",
   "pygments_lexer": "ipython3",
   "version": "3.8.5-final"
  },
  "orig_nbformat": 2,
  "kernelspec": {
   "name": "python3",
   "display_name": "Python 3.8.5 64-bit",
   "metadata": {
    "interpreter": {
     "hash": "916dbcbb3f70747c44a77c7bcd40155683ae19c65e1c03b4aa3499c5328201f1"
    }
   }
  }
 },
 "nbformat": 4,
 "nbformat_minor": 2,
 "cells": [
  {
   "cell_type": "code",
   "execution_count": 7,
   "metadata": {},
   "outputs": [],
   "source": [
    "chaves = [[chr(index),f'{chr(index)}{index}'] for index in range(97,97+5)]"
   ]
  },
  {
   "cell_type": "code",
   "execution_count": 8,
   "metadata": {},
   "outputs": [
    {
     "output_type": "execute_result",
     "data": {
      "text/plain": [
       "[['a', 'a97'], ['b', 'b98'], ['c', 'c99'], ['d', 'd100'], ['e', 'e101']]"
      ]
     },
     "metadata": {},
     "execution_count": 8
    }
   ],
   "source": [
    "chaves"
   ]
  },
  {
   "cell_type": "code",
   "execution_count": 9,
   "metadata": {},
   "outputs": [
    {
     "output_type": "stream",
     "name": "stdout",
     "text": [
      "['a', 'a97']\n['b', 'b98']\n['c', 'c99']\n['d', 'd100']\n['e', 'e101']\n"
     ]
    }
   ],
   "source": [
    "for c in chaves:\n",
    "    print(c)"
   ]
  },
  {
   "cell_type": "code",
   "execution_count": 10,
   "metadata": {},
   "outputs": [],
   "source": [
    "# desempacotando"
   ]
  },
  {
   "cell_type": "code",
   "execution_count": 16,
   "metadata": {},
   "outputs": [
    {
     "output_type": "stream",
     "name": "stdout",
     "text": [
      "e101\ne101\ne101\ne101\ne101\n"
     ]
    }
   ],
   "source": [
    "for c, value in chaves:\n",
    "    print(value)"
   ]
  },
  {
   "cell_type": "code",
   "execution_count": 17,
   "metadata": {},
   "outputs": [
    {
     "output_type": "stream",
     "name": "stdout",
     "text": [
      "a\nb\nc\nd\ne\n"
     ]
    }
   ],
   "source": [
    "for c, value in chaves:\n",
    "    print(c)"
   ]
  },
  {
   "cell_type": "code",
   "execution_count": 19,
   "metadata": {},
   "outputs": [
    {
     "output_type": "stream",
     "name": "stdout",
     "text": [
      "Chaves:a -- Valor: a97\nChaves:b -- Valor: b98\nChaves:c -- Valor: c99\nChaves:d -- Valor: d100\nChaves:e -- Valor: e101\n"
     ]
    }
   ],
   "source": [
    "for c, value in chaves:\n",
    "    print(f'Chaves:{c} -- Valor: {value}')"
   ]
  },
  {
   "cell_type": "code",
   "execution_count": 23,
   "metadata": {},
   "outputs": [],
   "source": [
    "chaves = [f'{2*chr(index)}{index}' for index in range(97,97+5)]"
   ]
  },
  {
   "cell_type": "code",
   "execution_count": 24,
   "metadata": {},
   "outputs": [
    {
     "output_type": "stream",
     "name": "stdout",
     "text": [
      "0 aa97\n1 bb98\n2 cc99\n3 dd100\n4 ee101\n"
     ]
    }
   ],
   "source": [
    "for c, key in enumerate(chaves):\n",
    "    print(c,key)"
   ]
  },
  {
   "cell_type": "code",
   "execution_count": 1,
   "metadata": {},
   "outputs": [],
   "source": [
    "url = list(\"https://www.instagram.com/zhrcosta/\")"
   ]
  },
  {
   "cell_type": "code",
   "execution_count": 2,
   "metadata": {},
   "outputs": [
    {
     "output_type": "stream",
     "name": "stdout",
     "text": [
      "(0, 'h')\n(1, 't')\n(2, 't')\n(3, 'p')\n(4, 's')\n(5, ':')\n(6, '/')\n(7, '/')\n(8, 'w')\n(9, 'w')\n(10, 'w')\n(11, '.')\n(12, 'i')\n(13, 'n')\n(14, 's')\n(15, 't')\n(16, 'a')\n(17, 'g')\n(18, 'r')\n(19, 'a')\n(20, 'm')\n(21, '.')\n(22, 'c')\n(23, 'o')\n(24, 'm')\n(25, '/')\n(26, 'z')\n(27, 'h')\n(28, 'r')\n(29, 'c')\n(30, 'o')\n(31, 's')\n(32, 't')\n(33, 'a')\n(34, '/')\n"
     ]
    }
   ],
   "source": [
    "for char in enumerate(url):\n",
    "    print(char)"
   ]
  },
  {
   "cell_type": "code",
   "execution_count": 4,
   "metadata": {},
   "outputs": [
    {
     "output_type": "stream",
     "name": "stdout",
     "text": [
      "(1, 'h')\n(2, 't')\n(3, 't')\n(4, 'p')\n(5, 's')\n(6, ':')\n(7, '/')\n(8, '/')\n(9, 'w')\n(10, 'w')\n(11, 'w')\n(12, '.')\n(13, 'i')\n(14, 'n')\n(15, 's')\n(16, 't')\n(17, 'a')\n(18, 'g')\n(19, 'r')\n(20, 'a')\n(21, 'm')\n(22, '.')\n(23, 'c')\n(24, 'o')\n(25, 'm')\n(26, '/')\n(27, 'z')\n(28, 'h')\n(29, 'r')\n(30, 'c')\n(31, 'o')\n(32, 's')\n(33, 't')\n(34, 'a')\n(35, '/')\n"
     ]
    }
   ],
   "source": [
    "for char in enumerate(url,1):\n",
    "    print(char)"
   ]
  },
  {
   "cell_type": "code",
   "execution_count": 9,
   "metadata": {},
   "outputs": [
    {
     "output_type": "execute_result",
     "data": {
      "text/plain": [
       "['c', 'o', 'm']"
      ]
     },
     "metadata": {},
     "execution_count": 9
    }
   ],
   "source": [
    "url[22:25]"
   ]
  },
  {
   "cell_type": "code",
   "execution_count": 12,
   "metadata": {},
   "outputs": [
    {
     "output_type": "execute_result",
     "data": {
      "text/plain": [
       "'com'"
      ]
     },
     "metadata": {},
     "execution_count": 12
    }
   ],
   "source": [
    "new_str = \"\".join(url[22:25])\n",
    "new_str"
   ]
  },
  {
   "cell_type": "code",
   "execution_count": 14,
   "metadata": {},
   "outputs": [
    {
     "output_type": "stream",
     "name": "stdout",
     "text": [
      "Caractere h ... Indice 0\nCaractere t ... Indice 1\nCaractere t ... Indice 2\nCaractere p ... Indice 3\nCaractere s ... Indice 4\nCaractere : ... Indice 5\nCaractere / ... Indice 6\nCaractere / ... Indice 7\nCaractere w ... Indice 8\nCaractere w ... Indice 9\nCaractere w ... Indice 10\nCaractere . ... Indice 11\nCaractere i ... Indice 12\nCaractere n ... Indice 13\nCaractere s ... Indice 14\nCaractere t ... Indice 15\nCaractere a ... Indice 16\nCaractere g ... Indice 17\nCaractere r ... Indice 18\nCaractere a ... Indice 19\nCaractere m ... Indice 20\nCaractere . ... Indice 21\nCaractere c ... Indice 22\nCaractere o ... Indice 23\nCaractere m ... Indice 24\nCaractere / ... Indice 25\nCaractere z ... Indice 26\nCaractere h ... Indice 27\nCaractere r ... Indice 28\nCaractere c ... Indice 29\nCaractere o ... Indice 30\nCaractere s ... Indice 31\nCaractere t ... Indice 32\nCaractere a ... Indice 33\nCaractere / ... Indice 34\n"
     ]
    }
   ],
   "source": [
    "for v1 in enumerate(url):\n",
    "    indice, char = v1\n",
    "    print(f'Caractere {char} ... Indice {indice}')"
   ]
  },
  {
   "cell_type": "code",
   "execution_count": 30,
   "metadata": {},
   "outputs": [],
   "source": [
    "v1 = enumerate(url)"
   ]
  },
  {
   "cell_type": "code",
   "execution_count": 31,
   "metadata": {},
   "outputs": [
    {
     "output_type": "execute_result",
     "data": {
      "text/plain": [
       "enumerate"
      ]
     },
     "metadata": {},
     "execution_count": 31
    }
   ],
   "source": [
    "type(v1)"
   ]
  },
  {
   "cell_type": "code",
   "execution_count": 32,
   "metadata": {},
   "outputs": [
    {
     "output_type": "stream",
     "name": "stdout",
     "text": [
      "(0, 'h')\n(1, 't')\n(2, 't')\n(3, 'p')\n(4, 's')\n(5, ':')\n(6, '/')\n(7, '/')\n(8, 'w')\n(9, 'w')\n(10, 'w')\n(11, '.')\n(12, 'i')\n(13, 'n')\n(14, 's')\n(15, 't')\n(16, 'a')\n(17, 'g')\n(18, 'r')\n(19, 'a')\n(20, 'm')\n(21, '.')\n(22, 'c')\n(23, 'o')\n(24, 'm')\n(25, '/')\n(26, 'z')\n(27, 'h')\n(28, 'r')\n(29, 'c')\n(30, 'o')\n(31, 's')\n(32, 't')\n(33, 'a')\n(34, '/')\n"
     ]
    }
   ],
   "source": [
    "for i in v1:\n",
    "    print(i)"
   ]
  },
  {
   "cell_type": "code",
   "execution_count": 35,
   "metadata": {},
   "outputs": [],
   "source": [
    "v1 = list(enumerate(url))"
   ]
  },
  {
   "cell_type": "code",
   "execution_count": 40,
   "metadata": {},
   "outputs": [
    {
     "output_type": "execute_result",
     "data": {
      "text/plain": [
       "(22, 'c')"
      ]
     },
     "metadata": {},
     "execution_count": 40
    }
   ],
   "source": [
    "v1[22]"
   ]
  },
  {
   "cell_type": "code",
   "execution_count": 41,
   "metadata": {},
   "outputs": [
    {
     "output_type": "execute_result",
     "data": {
      "text/plain": [
       "'c'"
      ]
     },
     "metadata": {},
     "execution_count": 41
    }
   ],
   "source": [
    "v1[22][1]"
   ]
  },
  {
   "cell_type": "code",
   "execution_count": null,
   "metadata": {},
   "outputs": [],
   "source": []
  }
 ]
}